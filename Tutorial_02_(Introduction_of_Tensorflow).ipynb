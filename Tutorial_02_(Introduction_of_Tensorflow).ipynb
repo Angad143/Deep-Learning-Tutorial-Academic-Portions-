{
  "nbformat": 4,
  "nbformat_minor": 0,
  "metadata": {
    "colab": {
      "provenance": []
    },
    "kernelspec": {
      "name": "python3",
      "display_name": "Python 3"
    },
    "language_info": {
      "name": "python"
    }
  },
  "cells": [
    {
      "cell_type": "markdown",
      "source": [
        "**Name: Angad Gupta**\n",
        "\n",
        "**Enroll No: 21SOECE11614**\n",
        "\n",
        "**Roll No: 14**"
      ],
      "metadata": {
        "id": "yMtdntw5SK3y"
      }
    },
    {
      "cell_type": "markdown",
      "source": [
        "### **Implementing Basic Concepts of TensorFlow: Constants, Variables, and Placeholders**\n",
        "TensorFlow is a powerful and widely-used deep learning library developed by the Google Brain Team.\n",
        "\n",
        "The name TensorFlow is derived from two fundamental concepts: \"Tensor\" and \"Flow.\"\n",
        "\n",
        "**Understanding Tensors and Flow**\n",
        "\n",
        "**Tensor:**\n",
        "\n",
        "A tensor is a multi-dimensional array that represents all types of data.\n",
        "\n",
        "It can be thought of as a generalization of vectors and matrices to higher dimensions.\n",
        "\n",
        "**Flow:**\n",
        "\n",
        "The flow part of TensorFlow refers to the way data flows through a computational graph.\n",
        "\n",
        "In this graph, nodes represent mathematical operations (tensors), and edges represent the data (flow) that is passed between these operations.\n",
        "\n",
        "**TensorFlow Computational Graph**\n",
        "\n",
        "In TensorFlow, computations are represented as data flow graphs.\n",
        "\n",
        "**Nodes:**\n",
        "\n",
        "Nodes in the graph represent mathematical operations or computations.\n",
        "\n",
        "Each node takes zero or more tensors as inputs and produces zero or more tensors as outputs.\n",
        "\n",
        "**Edges:**\n",
        "\n",
        "Edges in the graph represent the flow of data (tensors) between nodes.\n",
        "\n",
        "They indicate the dependencies between operations.\n",
        "\n",
        "**Example:**\n",
        "\n",
        "Consider the simple operation of adding two numbers:\n",
        "\n",
        "a and b -----> add(+)-----> c\n",
        "\n",
        "Here, add is a node representing the addition operation. a and b are input tensors, and c is the resultant tensor.\n",
        "\n",
        "**Properties of a Tensor**\n",
        "\n",
        "A tensor in TensorFlow has three main properties:\n",
        "\n",
        "**Name:** A unique label identifying the tensor.\n",
        "\n",
        "**Shape:** The dimensions of the tensor (e.g., scalar, vector, matrix).\n",
        "\n",
        "**Data Type (dtype):** The type of data stored in the tensor (e.g., float32, int32).\n",
        "\n",
        "**Types of Tensors**\n",
        "\n",
        "In TensorFlow, there are four primary types of tensors that we can create:\n",
        "\n",
        "**tf.Variable:**\n",
        "\n",
        "Variables are used to store mutable state.\n",
        "\n",
        "They are commonly used for weights and biases in neural networks, as their values are updated during training.\n",
        "\n",
        "**tf.constant:**\n",
        "\n",
        "Constants are immutable values that do not change.\n",
        "\n",
        "They are useful for fixed values like hyperparameters.\n",
        "\n",
        "**tf.placeholder:**\n",
        "\n",
        "Placeholders allow us to feed external data into the graph.\n",
        "\n",
        "They are essential for defining inputs to the model during training and inference.\n",
        "\n",
        "**tf.SparseTenso**\n",
        "\n",
        "Sparse tensors are used to efficiently represent tensors that have a lot of zero values.\n",
        "\n",
        "They are particularly useful for memory optimization in large datasets.\n",
        "\n",
        "**TensorFlow Playground**\n",
        "\n",
        "The TensorFlow Playground is an interactive web application written in d3.js (JavaScript).\n",
        "\n",
        "It allows users to visualize and interact with neural networks in a browser environment, making it easier to understand how neural networks work.\n",
        "\n",
        "**Basic Implementation in TensorFlow**\n",
        "\n",
        "Here, we will implement some basic concepts in TensorFlow using constants, variables, and placeholders.\n"
      ],
      "metadata": {
        "id": "15x9ljZjvh9Q"
      }
    },
    {
      "cell_type": "code",
      "source": [
        "pip install tensorflow"
      ],
      "metadata": {
        "colab": {
          "base_uri": "https://localhost:8080/"
        },
        "id": "85i803Yo0N_L",
        "outputId": "a17870e5-62d1-4b21-eaf3-91fd053a8ed9"
      },
      "execution_count": 26,
      "outputs": [
        {
          "output_type": "stream",
          "name": "stdout",
          "text": [
            "Requirement already satisfied: tensorflow in /usr/local/lib/python3.10/dist-packages (2.15.0)\n",
            "Requirement already satisfied: absl-py>=1.0.0 in /usr/local/lib/python3.10/dist-packages (from tensorflow) (1.4.0)\n",
            "Requirement already satisfied: astunparse>=1.6.0 in /usr/local/lib/python3.10/dist-packages (from tensorflow) (1.6.3)\n",
            "Requirement already satisfied: flatbuffers>=23.5.26 in /usr/local/lib/python3.10/dist-packages (from tensorflow) (24.3.25)\n",
            "Requirement already satisfied: gast!=0.5.0,!=0.5.1,!=0.5.2,>=0.2.1 in /usr/local/lib/python3.10/dist-packages (from tensorflow) (0.6.0)\n",
            "Requirement already satisfied: google-pasta>=0.1.1 in /usr/local/lib/python3.10/dist-packages (from tensorflow) (0.2.0)\n",
            "Requirement already satisfied: h5py>=2.9.0 in /usr/local/lib/python3.10/dist-packages (from tensorflow) (3.11.0)\n",
            "Requirement already satisfied: libclang>=13.0.0 in /usr/local/lib/python3.10/dist-packages (from tensorflow) (18.1.1)\n",
            "Requirement already satisfied: ml-dtypes~=0.2.0 in /usr/local/lib/python3.10/dist-packages (from tensorflow) (0.2.0)\n",
            "Requirement already satisfied: numpy<2.0.0,>=1.23.5 in /usr/local/lib/python3.10/dist-packages (from tensorflow) (1.25.2)\n",
            "Requirement already satisfied: opt-einsum>=2.3.2 in /usr/local/lib/python3.10/dist-packages (from tensorflow) (3.3.0)\n",
            "Requirement already satisfied: packaging in /usr/local/lib/python3.10/dist-packages (from tensorflow) (24.1)\n",
            "Requirement already satisfied: protobuf!=4.21.0,!=4.21.1,!=4.21.2,!=4.21.3,!=4.21.4,!=4.21.5,<5.0.0dev,>=3.20.3 in /usr/local/lib/python3.10/dist-packages (from tensorflow) (3.20.3)\n",
            "Requirement already satisfied: setuptools in /usr/local/lib/python3.10/dist-packages (from tensorflow) (71.0.4)\n",
            "Requirement already satisfied: six>=1.12.0 in /usr/local/lib/python3.10/dist-packages (from tensorflow) (1.16.0)\n",
            "Requirement already satisfied: termcolor>=1.1.0 in /usr/local/lib/python3.10/dist-packages (from tensorflow) (2.4.0)\n",
            "Requirement already satisfied: typing-extensions>=3.6.6 in /usr/local/lib/python3.10/dist-packages (from tensorflow) (4.12.2)\n",
            "Requirement already satisfied: wrapt<1.15,>=1.11.0 in /usr/local/lib/python3.10/dist-packages (from tensorflow) (1.14.1)\n",
            "Requirement already satisfied: tensorflow-io-gcs-filesystem>=0.23.1 in /usr/local/lib/python3.10/dist-packages (from tensorflow) (0.37.1)\n",
            "Requirement already satisfied: grpcio<2.0,>=1.24.3 in /usr/local/lib/python3.10/dist-packages (from tensorflow) (1.64.1)\n",
            "Requirement already satisfied: tensorboard<2.16,>=2.15 in /usr/local/lib/python3.10/dist-packages (from tensorflow) (2.15.2)\n",
            "Requirement already satisfied: tensorflow-estimator<2.16,>=2.15.0 in /usr/local/lib/python3.10/dist-packages (from tensorflow) (2.15.0)\n",
            "Requirement already satisfied: keras<2.16,>=2.15.0 in /usr/local/lib/python3.10/dist-packages (from tensorflow) (2.15.0)\n",
            "Requirement already satisfied: wheel<1.0,>=0.23.0 in /usr/local/lib/python3.10/dist-packages (from astunparse>=1.6.0->tensorflow) (0.43.0)\n",
            "Requirement already satisfied: google-auth<3,>=1.6.3 in /usr/local/lib/python3.10/dist-packages (from tensorboard<2.16,>=2.15->tensorflow) (2.27.0)\n",
            "Requirement already satisfied: google-auth-oauthlib<2,>=0.5 in /usr/local/lib/python3.10/dist-packages (from tensorboard<2.16,>=2.15->tensorflow) (1.2.1)\n",
            "Requirement already satisfied: markdown>=2.6.8 in /usr/local/lib/python3.10/dist-packages (from tensorboard<2.16,>=2.15->tensorflow) (3.6)\n",
            "Requirement already satisfied: requests<3,>=2.21.0 in /usr/local/lib/python3.10/dist-packages (from tensorboard<2.16,>=2.15->tensorflow) (2.31.0)\n",
            "Requirement already satisfied: tensorboard-data-server<0.8.0,>=0.7.0 in /usr/local/lib/python3.10/dist-packages (from tensorboard<2.16,>=2.15->tensorflow) (0.7.2)\n",
            "Requirement already satisfied: werkzeug>=1.0.1 in /usr/local/lib/python3.10/dist-packages (from tensorboard<2.16,>=2.15->tensorflow) (3.0.3)\n",
            "Requirement already satisfied: cachetools<6.0,>=2.0.0 in /usr/local/lib/python3.10/dist-packages (from google-auth<3,>=1.6.3->tensorboard<2.16,>=2.15->tensorflow) (5.4.0)\n",
            "Requirement already satisfied: pyasn1-modules>=0.2.1 in /usr/local/lib/python3.10/dist-packages (from google-auth<3,>=1.6.3->tensorboard<2.16,>=2.15->tensorflow) (0.4.0)\n",
            "Requirement already satisfied: rsa<5,>=3.1.4 in /usr/local/lib/python3.10/dist-packages (from google-auth<3,>=1.6.3->tensorboard<2.16,>=2.15->tensorflow) (4.9)\n",
            "Requirement already satisfied: requests-oauthlib>=0.7.0 in /usr/local/lib/python3.10/dist-packages (from google-auth-oauthlib<2,>=0.5->tensorboard<2.16,>=2.15->tensorflow) (1.3.1)\n",
            "Requirement already satisfied: charset-normalizer<4,>=2 in /usr/local/lib/python3.10/dist-packages (from requests<3,>=2.21.0->tensorboard<2.16,>=2.15->tensorflow) (3.3.2)\n",
            "Requirement already satisfied: idna<4,>=2.5 in /usr/local/lib/python3.10/dist-packages (from requests<3,>=2.21.0->tensorboard<2.16,>=2.15->tensorflow) (3.7)\n",
            "Requirement already satisfied: urllib3<3,>=1.21.1 in /usr/local/lib/python3.10/dist-packages (from requests<3,>=2.21.0->tensorboard<2.16,>=2.15->tensorflow) (2.0.7)\n",
            "Requirement already satisfied: certifi>=2017.4.17 in /usr/local/lib/python3.10/dist-packages (from requests<3,>=2.21.0->tensorboard<2.16,>=2.15->tensorflow) (2024.7.4)\n",
            "Requirement already satisfied: MarkupSafe>=2.1.1 in /usr/local/lib/python3.10/dist-packages (from werkzeug>=1.0.1->tensorboard<2.16,>=2.15->tensorflow) (2.1.5)\n",
            "Requirement already satisfied: pyasn1<0.7.0,>=0.4.6 in /usr/local/lib/python3.10/dist-packages (from pyasn1-modules>=0.2.1->google-auth<3,>=1.6.3->tensorboard<2.16,>=2.15->tensorflow) (0.6.0)\n",
            "Requirement already satisfied: oauthlib>=3.0.0 in /usr/local/lib/python3.10/dist-packages (from requests-oauthlib>=0.7.0->google-auth-oauthlib<2,>=0.5->tensorboard<2.16,>=2.15->tensorflow) (3.2.2)\n"
          ]
        }
      ]
    },
    {
      "cell_type": "markdown",
      "source": [
        "#### **Constants**\n",
        "Constants are immutable values. Once defined, their values cannot be changed."
      ],
      "metadata": {
        "id": "8kVf9AxPS1E-"
      }
    },
    {
      "cell_type": "code",
      "source": [
        "import tensorflow as tf\n",
        "\n",
        "# Define a constant\n",
        "a = tf.constant(10)\n",
        "b = tf.constant(20)\n",
        "\n",
        "# Perform operations\n",
        "c = tf.add(a, b)\n",
        "d = tf.multiply(a, b)\n",
        "e = tf.subtract(a,b)\n",
        "f = tf.divide(a, b)\n",
        "\n",
        "# Eager execution is enabled by default, so you can directly print the results\n",
        "\n",
        "print(f\"Sum of a and b is {c}\")\n",
        "print(f\"Multiply of a and b is {d}\")\n",
        "print(f\"Subtract of a and b is {e}\")\n",
        "print(f\"Divide of a and b is {f}\")"
      ],
      "metadata": {
        "colab": {
          "base_uri": "https://localhost:8080/"
        },
        "id": "toXv7diFTGtx",
        "outputId": "ff52bcba-071f-424b-d20c-c53b6445d3a1"
      },
      "execution_count": 53,
      "outputs": [
        {
          "output_type": "stream",
          "name": "stdout",
          "text": [
            "Sum of a and b is 30\n",
            "Multiply of a and b is 200\n",
            "Subtract of a and b is -10\n",
            "Divide of a and b is 0.5\n"
          ]
        }
      ]
    },
    {
      "cell_type": "markdown",
      "source": [
        "#### **Variables**\n",
        "Variables are mutable and can be updated. They are used for trainable parameters such as weights and biases in neural networks."
      ],
      "metadata": {
        "id": "9RWo95LpS9XP"
      }
    },
    {
      "cell_type": "code",
      "source": [
        "import tensorflow as tf\n",
        "\n",
        "# Define variables\n",
        "cons1 = tf.Variable([0.3], dtype = tf.float32)\n",
        "const2 = tf.Variable([-0.3], dtype = tf.float32)\n",
        "\n",
        "# Define input as a tensor\n",
        "input = tf.Variable([1.0], dtype = tf.float32)\n",
        "\n",
        "# Define the linear model\n",
        "linear_model = cons1 * input + const2\n",
        "\n",
        "# Eager execution allows direct evaluation\n",
        "print(f\"Linear model with x axis x = 1 is{linear_model.numpy()}\")"
      ],
      "metadata": {
        "colab": {
          "base_uri": "https://localhost:8080/"
        },
        "id": "ZVYkNP_vTHOR",
        "outputId": "73a3ff34-7c2f-484f-b043-64c342d68fed"
      },
      "execution_count": 54,
      "outputs": [
        {
          "output_type": "stream",
          "name": "stdout",
          "text": [
            "Linear model with x axis x = 1 is[0.]\n"
          ]
        }
      ]
    },
    {
      "cell_type": "markdown",
      "source": [
        "#### **Placeholders**\n",
        "Placeholders are used to feed external data into a TensorFlow graph. They allow for dynamic input."
      ],
      "metadata": {
        "id": "NUheY6t4TDRI"
      }
    },
    {
      "cell_type": "code",
      "source": [
        "import tensorflow as tf\n",
        "\n",
        "# Define a function that performs an operation on the inputs\n",
        "@tf.function\n",
        "\n",
        "def Addition(x, y):\n",
        "  return x + y\n",
        "\n",
        "# Call the function with actual values\n",
        "x = tf.constant(4.0)\n",
        "y = tf.constant(7.0)\n",
        "\n",
        "res = Addition(x, y)\n",
        "\n",
        "print(f\"Summation with x-axis 4.0 and y-axis 7.0 is {res.numpy()}\")\n"
      ],
      "metadata": {
        "colab": {
          "base_uri": "https://localhost:8080/"
        },
        "id": "cV-93DKvTIcr",
        "outputId": "60284197-1f72-4579-ef31-ed28aa069b68"
      },
      "execution_count": 56,
      "outputs": [
        {
          "output_type": "stream",
          "name": "stdout",
          "text": [
            "Summation with x-axis 4.0 and y-axis 7.0 is 11.0\n"
          ]
        }
      ]
    },
    {
      "cell_type": "markdown",
      "source": [
        "#### **Complete all**"
      ],
      "metadata": {
        "id": "JJOwSaU8TKIf"
      }
    },
    {
      "cell_type": "code",
      "source": [
        "import tensorflow as tf\n",
        "print(tf.version)"
      ],
      "metadata": {
        "colab": {
          "base_uri": "https://localhost:8080/"
        },
        "id": "kjeewtA70Rma",
        "outputId": "8de63397-082f-478d-8340-8780252f6b3b"
      },
      "execution_count": 27,
      "outputs": [
        {
          "output_type": "stream",
          "name": "stdout",
          "text": [
            "<module 'tensorflow._api.v2.version' from '/usr/local/lib/python3.10/dist-packages/tensorflow/_api/v2/version/__init__.py'>\n"
          ]
        }
      ]
    },
    {
      "cell_type": "code",
      "source": [
        "# Each tensor has a data type and shape\n",
        "\n",
        "# Data types includes: float32, int32, string and others.\n",
        "\n",
        "#Shape: represent the dimension of data\n",
        "\n",
        "# creating tensor\n",
        "string = tf.Variable(\"This is a string\", tf.string)\n",
        "number = tf.Variable(324, tf.int16)\n",
        "floating = tf.Variable(3.3454, tf.float64)\n"
      ],
      "metadata": {
        "id": "X4dfRx5u0bCv"
      },
      "execution_count": 28,
      "outputs": []
    },
    {
      "cell_type": "code",
      "source": [
        "rank1_tensor = tf.Variable([\"Test\"], tf.string)\n",
        "rank2_tensor = tf.Variable([[\"Test\", \"Ok\"], [\"test\", \"yes\"]], tf.string)\n",
        "rank3_tensor = tf.Variable([[[1,2,3], [4,5,6], [7,8,9], [10,11,12]]])\n",
        "\n",
        "#finding rank\n",
        "rank = tf.rank(rank1_tensor)\n",
        "print(rank)\n",
        "\n",
        "rank = tf.rank(rank2_tensor)\n",
        "print(rank)"
      ],
      "metadata": {
        "colab": {
          "base_uri": "https://localhost:8080/"
        },
        "id": "tU05v58M1o6t",
        "outputId": "b14d95d2-f67e-4a1f-a1c7-acd97d2eb647"
      },
      "execution_count": 29,
      "outputs": [
        {
          "output_type": "stream",
          "name": "stdout",
          "text": [
            "tf.Tensor(1, shape=(), dtype=int32)\n",
            "tf.Tensor(2, shape=(), dtype=int32)\n"
          ]
        }
      ]
    },
    {
      "cell_type": "code",
      "source": [
        "tf.rank(rank1_tensor)"
      ],
      "metadata": {
        "colab": {
          "base_uri": "https://localhost:8080/"
        },
        "id": "XNpRNp9A2fnS",
        "outputId": "061cb995-3253-49ad-a7e1-1d08e5c286cc"
      },
      "execution_count": 30,
      "outputs": [
        {
          "output_type": "execute_result",
          "data": {
            "text/plain": [
              "<tf.Tensor: shape=(), dtype=int32, numpy=1>"
            ]
          },
          "metadata": {},
          "execution_count": 30
        }
      ]
    },
    {
      "cell_type": "code",
      "source": [
        "tf.rank(rank2_tensor)"
      ],
      "metadata": {
        "colab": {
          "base_uri": "https://localhost:8080/"
        },
        "id": "JdRsNY3U3xKv",
        "outputId": "40932ae7-f473-4010-e9ba-6b8a8f1a6f9a"
      },
      "execution_count": 31,
      "outputs": [
        {
          "output_type": "execute_result",
          "data": {
            "text/plain": [
              "<tf.Tensor: shape=(), dtype=int32, numpy=2>"
            ]
          },
          "metadata": {},
          "execution_count": 31
        }
      ]
    },
    {
      "cell_type": "code",
      "source": [
        "tf.rank(rank3_tensor)"
      ],
      "metadata": {
        "colab": {
          "base_uri": "https://localhost:8080/"
        },
        "id": "zctLPIJk3z8g",
        "outputId": "96eea9e6-f4de-42f3-e10a-2baf83364ce1"
      },
      "execution_count": 32,
      "outputs": [
        {
          "output_type": "execute_result",
          "data": {
            "text/plain": [
              "<tf.Tensor: shape=(), dtype=int32, numpy=3>"
            ]
          },
          "metadata": {},
          "execution_count": 32
        }
      ]
    },
    {
      "cell_type": "code",
      "source": [
        "tf.rank(number)"
      ],
      "metadata": {
        "colab": {
          "base_uri": "https://localhost:8080/"
        },
        "id": "ohqzKHII33Z0",
        "outputId": "a528f150-b4be-491c-f643-8ae8a7253c65"
      },
      "execution_count": 33,
      "outputs": [
        {
          "output_type": "execute_result",
          "data": {
            "text/plain": [
              "<tf.Tensor: shape=(), dtype=int32, numpy=0>"
            ]
          },
          "metadata": {},
          "execution_count": 33
        }
      ]
    },
    {
      "cell_type": "code",
      "source": [
        "# Shape\n",
        "tf.shape(rank1_tensor)"
      ],
      "metadata": {
        "colab": {
          "base_uri": "https://localhost:8080/"
        },
        "id": "YBARG2-D36GA",
        "outputId": "2286046b-95b9-4622-9122-ce252f16d579"
      },
      "execution_count": 34,
      "outputs": [
        {
          "output_type": "execute_result",
          "data": {
            "text/plain": [
              "<tf.Tensor: shape=(1,), dtype=int32, numpy=array([1], dtype=int32)>"
            ]
          },
          "metadata": {},
          "execution_count": 34
        }
      ]
    },
    {
      "cell_type": "code",
      "source": [
        "tf.shape(rank2_tensor)"
      ],
      "metadata": {
        "colab": {
          "base_uri": "https://localhost:8080/"
        },
        "id": "uom7Eo-A4AXH",
        "outputId": "72acb0a0-c6d9-466a-f010-97a9af072180"
      },
      "execution_count": 35,
      "outputs": [
        {
          "output_type": "execute_result",
          "data": {
            "text/plain": [
              "<tf.Tensor: shape=(2,), dtype=int32, numpy=array([2, 2], dtype=int32)>"
            ]
          },
          "metadata": {},
          "execution_count": 35
        }
      ]
    },
    {
      "cell_type": "code",
      "source": [
        "tf.shape(rank3_tensor)"
      ],
      "metadata": {
        "colab": {
          "base_uri": "https://localhost:8080/"
        },
        "id": "hSQmZcTR4Gi2",
        "outputId": "05497046-4f24-4342-c37e-72613d3f1528"
      },
      "execution_count": 36,
      "outputs": [
        {
          "output_type": "execute_result",
          "data": {
            "text/plain": [
              "<tf.Tensor: shape=(3,), dtype=int32, numpy=array([1, 4, 3], dtype=int32)>"
            ]
          },
          "metadata": {},
          "execution_count": 36
        }
      ]
    },
    {
      "cell_type": "code",
      "source": [
        "tf.shape(number)"
      ],
      "metadata": {
        "colab": {
          "base_uri": "https://localhost:8080/"
        },
        "id": "rh9S_rFV4Mmf",
        "outputId": "7e06cb16-3902-4c8c-adc5-6df711eed825"
      },
      "execution_count": 37,
      "outputs": [
        {
          "output_type": "execute_result",
          "data": {
            "text/plain": [
              "<tf.Tensor: shape=(0,), dtype=int32, numpy=array([], dtype=int32)>"
            ]
          },
          "metadata": {},
          "execution_count": 37
        }
      ]
    },
    {
      "cell_type": "code",
      "source": [
        "print(rank1_tensor)"
      ],
      "metadata": {
        "colab": {
          "base_uri": "https://localhost:8080/"
        },
        "id": "ryuuisyi4LI0",
        "outputId": "81c7fca7-5b60-45f6-d69f-d94b111b5997"
      },
      "execution_count": 38,
      "outputs": [
        {
          "output_type": "stream",
          "name": "stdout",
          "text": [
            "<tf.Variable 'Variable:0' shape=(1,) dtype=string, numpy=array([b'Test'], dtype=object)>\n"
          ]
        }
      ]
    },
    {
      "cell_type": "code",
      "source": [
        "print(rank2_tensor)"
      ],
      "metadata": {
        "colab": {
          "base_uri": "https://localhost:8080/"
        },
        "id": "WnpPR7VF40o1",
        "outputId": "d71f960a-7006-4367-d551-c37311118830"
      },
      "execution_count": 39,
      "outputs": [
        {
          "output_type": "stream",
          "name": "stdout",
          "text": [
            "<tf.Variable 'Variable:0' shape=(2, 2) dtype=string, numpy=\n",
            "array([[b'Test', b'Ok'],\n",
            "       [b'test', b'yes']], dtype=object)>\n"
          ]
        }
      ]
    },
    {
      "cell_type": "code",
      "source": [
        "print(rank3_tensor)"
      ],
      "metadata": {
        "colab": {
          "base_uri": "https://localhost:8080/"
        },
        "id": "0a6F89Q646p6",
        "outputId": "18e4ac73-ce98-4186-9d14-053e8a7ee420"
      },
      "execution_count": 40,
      "outputs": [
        {
          "output_type": "stream",
          "name": "stdout",
          "text": [
            "<tf.Variable 'Variable:0' shape=(1, 4, 3) dtype=int32, numpy=\n",
            "array([[[ 1,  2,  3],\n",
            "        [ 4,  5,  6],\n",
            "        [ 7,  8,  9],\n",
            "        [10, 11, 12]]], dtype=int32)>\n"
          ]
        }
      ]
    },
    {
      "cell_type": "code",
      "source": [
        "a = tf.Variable([[3,4,5]], dtype = tf.int32)\n",
        "b = tf.Variable([[5,6,7]], dtype = tf.int32)"
      ],
      "metadata": {
        "id": "FZ6sOijR49Zv"
      },
      "execution_count": 41,
      "outputs": []
    },
    {
      "cell_type": "code",
      "source": [
        "c = tf.add(a, b)\n",
        "print(a)\n",
        "print(b)\n",
        "print(c)\n",
        "\n",
        "# numpy\n",
        "c.numpy"
      ],
      "metadata": {
        "colab": {
          "base_uri": "https://localhost:8080/",
          "height": 238
        },
        "id": "FEtqM2uQ6Klg",
        "outputId": "3dac6620-d0ce-48e8-8ea5-74d831385ea6"
      },
      "execution_count": 42,
      "outputs": [
        {
          "output_type": "stream",
          "name": "stdout",
          "text": [
            "<tf.Variable 'Variable:0' shape=(1, 3) dtype=int32, numpy=array([[3, 4, 5]], dtype=int32)>\n",
            "<tf.Variable 'Variable:0' shape=(1, 3) dtype=int32, numpy=array([[5, 6, 7]], dtype=int32)>\n",
            "tf.Tensor([[ 8 10 12]], shape=(1, 3), dtype=int32)\n"
          ]
        },
        {
          "output_type": "execute_result",
          "data": {
            "text/plain": [
              "<bound method _EagerTensorBase.numpy of <tf.Tensor: shape=(1, 3), dtype=int32, numpy=array([[ 8, 10, 12]], dtype=int32)>>"
            ],
            "text/html": [
              "<div style=\"max-width:800px; border: 1px solid var(--colab-border-color);\"><style>\n",
              "      pre.function-repr-contents {\n",
              "        overflow-x: auto;\n",
              "        padding: 8px 12px;\n",
              "        max-height: 500px;\n",
              "      }\n",
              "\n",
              "      pre.function-repr-contents.function-repr-contents-collapsed {\n",
              "        cursor: pointer;\n",
              "        max-height: 100px;\n",
              "      }\n",
              "    </style>\n",
              "    <pre style=\"white-space: initial; background:\n",
              "         var(--colab-secondary-surface-color); padding: 8px 12px;\n",
              "         border-bottom: 1px solid var(--colab-border-color);\"><b>tensorflow.python.framework.ops._EagerTensorBase.numpy</b><br/>def numpy()</pre><pre class=\"function-repr-contents function-repr-contents-collapsed\" style=\"\"><a class=\"filepath\" style=\"display:none\" href=\"#\">/usr/local/lib/python3.10/dist-packages/tensorflow/python/framework/ops.py</a>Copy of the contents of this Tensor into a NumPy array or scalar.\n",
              "\n",
              "Unlike NumPy arrays, Tensors are immutable, so this method has to copy\n",
              "the contents to ensure safety. Use `memoryview` to get a readonly\n",
              "view of the contents without doing a copy:\n",
              "\n",
              "&gt;&gt;&gt; t = tf.constant([42])\n",
              "&gt;&gt;&gt; np.array(memoryview(t))\n",
              "array([42], dtype=int32)\n",
              "\n",
              "Note that `memoryview` is only zero-copy for Tensors on CPU. If a Tensor\n",
              "is on GPU, it will have to be transferred to CPU first in order for\n",
              "`memoryview` to work.\n",
              "\n",
              "Returns:\n",
              "  A NumPy array of the same shape and dtype or a NumPy scalar, if this\n",
              "  Tensor has rank 0.\n",
              "\n",
              "Raises:\n",
              "  ValueError: If the dtype of this Tensor does not have a compatible\n",
              "    NumPy dtype.</pre>\n",
              "      <script>\n",
              "      if (google.colab.kernel.accessAllowed && google.colab.files && google.colab.files.view) {\n",
              "        for (const element of document.querySelectorAll('.filepath')) {\n",
              "          element.style.display = 'block'\n",
              "          element.onclick = (event) => {\n",
              "            event.preventDefault();\n",
              "            event.stopPropagation();\n",
              "            google.colab.files.view(element.textContent, 370);\n",
              "          };\n",
              "        }\n",
              "      }\n",
              "      for (const element of document.querySelectorAll('.function-repr-contents')) {\n",
              "        element.onclick = (event) => {\n",
              "          event.preventDefault();\n",
              "          event.stopPropagation();\n",
              "          element.classList.toggle('function-repr-contents-collapsed');\n",
              "        };\n",
              "      }\n",
              "      </script>\n",
              "      </div>"
            ]
          },
          "metadata": {},
          "execution_count": 42
        }
      ]
    },
    {
      "cell_type": "code",
      "source": [
        "# if condition statement\n",
        "\n",
        "a = tf.constant(10)\n",
        "b = tf.constant(20)\n",
        "\n",
        "def f1():\n",
        "  return tf.constant(a)\n",
        "\n",
        "def f2():\n",
        "  return tf.constant(b)\n",
        "\n",
        "res = tf.cond(tf.less(a, b), f1, f2)\n",
        "\n",
        "print(res)\n",
        "res.numpy"
      ],
      "metadata": {
        "colab": {
          "base_uri": "https://localhost:8080/",
          "height": 203
        },
        "id": "69DGXjV169Lf",
        "outputId": "2b0f192e-a970-422b-e87c-1820a523d17c"
      },
      "execution_count": 49,
      "outputs": [
        {
          "output_type": "stream",
          "name": "stdout",
          "text": [
            "tf.Tensor(10, shape=(), dtype=int32)\n"
          ]
        },
        {
          "output_type": "execute_result",
          "data": {
            "text/plain": [
              "<bound method _EagerTensorBase.numpy of <tf.Tensor: shape=(), dtype=int32, numpy=10>>"
            ],
            "text/html": [
              "<div style=\"max-width:800px; border: 1px solid var(--colab-border-color);\"><style>\n",
              "      pre.function-repr-contents {\n",
              "        overflow-x: auto;\n",
              "        padding: 8px 12px;\n",
              "        max-height: 500px;\n",
              "      }\n",
              "\n",
              "      pre.function-repr-contents.function-repr-contents-collapsed {\n",
              "        cursor: pointer;\n",
              "        max-height: 100px;\n",
              "      }\n",
              "    </style>\n",
              "    <pre style=\"white-space: initial; background:\n",
              "         var(--colab-secondary-surface-color); padding: 8px 12px;\n",
              "         border-bottom: 1px solid var(--colab-border-color);\"><b>tensorflow.python.framework.ops._EagerTensorBase.numpy</b><br/>def numpy()</pre><pre class=\"function-repr-contents function-repr-contents-collapsed\" style=\"\"><a class=\"filepath\" style=\"display:none\" href=\"#\">/usr/local/lib/python3.10/dist-packages/tensorflow/python/framework/ops.py</a>Copy of the contents of this Tensor into a NumPy array or scalar.\n",
              "\n",
              "Unlike NumPy arrays, Tensors are immutable, so this method has to copy\n",
              "the contents to ensure safety. Use `memoryview` to get a readonly\n",
              "view of the contents without doing a copy:\n",
              "\n",
              "&gt;&gt;&gt; t = tf.constant([42])\n",
              "&gt;&gt;&gt; np.array(memoryview(t))\n",
              "array([42], dtype=int32)\n",
              "\n",
              "Note that `memoryview` is only zero-copy for Tensors on CPU. If a Tensor\n",
              "is on GPU, it will have to be transferred to CPU first in order for\n",
              "`memoryview` to work.\n",
              "\n",
              "Returns:\n",
              "  A NumPy array of the same shape and dtype or a NumPy scalar, if this\n",
              "  Tensor has rank 0.\n",
              "\n",
              "Raises:\n",
              "  ValueError: If the dtype of this Tensor does not have a compatible\n",
              "    NumPy dtype.</pre>\n",
              "      <script>\n",
              "      if (google.colab.kernel.accessAllowed && google.colab.files && google.colab.files.view) {\n",
              "        for (const element of document.querySelectorAll('.filepath')) {\n",
              "          element.style.display = 'block'\n",
              "          element.onclick = (event) => {\n",
              "            event.preventDefault();\n",
              "            event.stopPropagation();\n",
              "            google.colab.files.view(element.textContent, 370);\n",
              "          };\n",
              "        }\n",
              "      }\n",
              "      for (const element of document.querySelectorAll('.function-repr-contents')) {\n",
              "        element.onclick = (event) => {\n",
              "          event.preventDefault();\n",
              "          event.stopPropagation();\n",
              "          element.classList.toggle('function-repr-contents-collapsed');\n",
              "        };\n",
              "      }\n",
              "      </script>\n",
              "      </div>"
            ]
          },
          "metadata": {},
          "execution_count": 49
        }
      ]
    },
    {
      "cell_type": "code",
      "source": [
        "# whle loop\n",
        "\n",
        "import numpy as np\n",
        "result = tf.Variable(np.zeros([11], dtype = np.int32))\n",
        "\n",
        "def run():\n",
        "  i = tf.constant(0, dtype=tf.int32)\n",
        "  while tf.less_equal(i, 10):\n",
        "    result[i].assign(i)\n",
        "    i+= 1\n",
        "run()\n",
        "result.numpy()"
      ],
      "metadata": {
        "colab": {
          "base_uri": "https://localhost:8080/"
        },
        "id": "C5LmaPnw7mkI",
        "outputId": "7b225d7b-a243-4769-bd18-571e34c6fccf"
      },
      "execution_count": 44,
      "outputs": [
        {
          "output_type": "execute_result",
          "data": {
            "text/plain": [
              "array([ 0,  1,  2,  3,  4,  5,  6,  7,  8,  9, 10], dtype=int32)"
            ]
          },
          "metadata": {},
          "execution_count": 44
        }
      ]
    },
    {
      "cell_type": "code",
      "source": [
        "# using while loop find the sum of  1 to 10 numbers.\n",
        "add = tf.Variable(0, dtype = np.int32)\n",
        "\n",
        "i = tf.constant(0, dtype=tf.int32)\n",
        "while tf.less_equal(i, 10):\n",
        "    add = add + i\n",
        "    i+= 1\n",
        "add.numpy()"
      ],
      "metadata": {
        "colab": {
          "base_uri": "https://localhost:8080/"
        },
        "id": "3jTydc6s8bS4",
        "outputId": "27be5322-e027-4d4c-c6cf-2cb884a131c6"
      },
      "execution_count": 45,
      "outputs": [
        {
          "output_type": "execute_result",
          "data": {
            "text/plain": [
              "55"
            ]
          },
          "metadata": {},
          "execution_count": 45
        }
      ]
    },
    {
      "cell_type": "code",
      "source": [
        "# using for loop find the sum of  1 to 10 numbers.\n",
        "\n",
        "add = tf.Variable(0, dtype = np.int32)\n",
        "\n",
        "i = tf.constant(0, dtype=tf.int32)\n",
        "for i in range(0, 11):\n",
        "    add = add + i\n",
        "add.numpy()"
      ],
      "metadata": {
        "colab": {
          "base_uri": "https://localhost:8080/"
        },
        "id": "cEgk_URQ9VT8",
        "outputId": "52f1697f-92a0-4554-f3a0-629924cf24c1"
      },
      "execution_count": 46,
      "outputs": [
        {
          "output_type": "execute_result",
          "data": {
            "text/plain": [
              "55"
            ]
          },
          "metadata": {},
          "execution_count": 46
        }
      ]
    }
  ]
}